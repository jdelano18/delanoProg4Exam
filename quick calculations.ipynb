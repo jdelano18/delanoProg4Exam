{
 "cells": [
  {
   "cell_type": "code",
   "execution_count": 1,
   "metadata": {},
   "outputs": [],
   "source": [
    "hold = [-1499.18663864, -1656.53788569 , -895.16819746 , -138.65170979, -1501.06955974, \n",
    "        -137.84779373, -132.48289306, -1505.34641595, -954.53800206, -248.93505109, \n",
    "        -362.66624103, -134.84783509, -1.75152617, -120.90899836, -335.81728848, -355.19497577,\n",
    "        -1321.82174851, -2.91454154, -471.74388688, -606.49051174, -423.65668131, -466.92720618,\n",
    "        -121.70561515, -129.15599333, -370.09689659, -357.86515109, -245.31922425, -127.8129609,\n",
    "        -218.62027349, -2.5766805, -124.38206054, -130.13521462, -361.30602231, -2.77997083, \n",
    "        -366.8885241, -2.18634466, -130.85549503, -134.49963836, -230.41792865, -366.6931976,\n",
    "        -121.55189499, -245.15579356, -248.80059119, -122.71513765, -369.86560337, -363.30626946,\n",
    "        -125.37703099, -1490.97942452, -121.46641016, -129.56975893, -124.03478694, -248.54687486,\n",
    "        -124.04475358, -409.74303324, -117.50789982, -125.69320596, -431.33644378, -1.51850578, \n",
    "        -131.68917654, -223.68079111, -123.12610668, -237.51059883, -403.64284553, -126.26556352,\n",
    "        -123.33972942, -118.36887204, -243.89495506, -129.99017872, -3.65158586, -125.37705612,\n",
    "        -121.53002925, -132.33714235, -444.24407934, -131.10007073, -242.8474051, -124.12000495,\n",
    "        -134.60065764, -2.88998947, -126.78093358, -2.2926811]"
   ]
  },
  {
   "cell_type": "code",
   "execution_count": 5,
   "metadata": {},
   "outputs": [
    {
     "data": {
      "image/png": "[encoded data removed]",
      "text/plain": [
       "<matplotlib.figure.Figure at 0x1083d2240>"
      ]
     },
     "metadata": {},
     "output_type": "display_data"
    }
   ],
   "source": [
    "import numpy as np\n",
    "import matplotlib.mlab as mlab\n",
    "import matplotlib.pyplot as plt\n",
    " \n",
    "x = [21,22,23,4,5,6,77,8,9,10,31,32,33,34,35,36,37,18,49,50,100]\n",
    "num_bins = 15\n",
    "n, bins, patches = plt.hist(hold, num_bins, facecolor='blue')\n",
    "plt.show()"
   ]
  },
  {
   "cell_type": "code",
   "execution_count": 7,
   "metadata": {},
   "outputs": [
    {
     "name": "stdout",
     "output_type": "stream",
     "text": [
      "-134.724246365\n"
     ]
    }
   ],
   "source": [
    "import statistics\n",
    "print(statistics.median(hold))"
   ]
  },
  {
   "cell_type": "code",
   "execution_count": 8,
   "metadata": {},
   "outputs": [
    {
     "data": {
      "text/plain": [
       "count      80.000000\n",
       "mean     -313.403708\n",
       "std       381.942914\n",
       "min     -1656.537886\n",
       "25%      -364.153001\n",
       "50%      -134.724246\n",
       "75%      -124.042262\n",
       "max        -1.518506\n",
       "dtype: float64"
      ]
     },
     "execution_count": 8,
     "metadata": {},
     "output_type": "execute_result"
    }
   ],
   "source": [
    "import pandas as pd\n",
    "s = pd.Series(hold)\n",
    "s.describe()"
   ]
  },
  {
   "cell_type": "code",
   "execution_count": null,
   "metadata": {},
   "outputs": [],
   "source": []
  }
 ],
 "metadata": {
  "kernelspec": {
   "display_name": "Python 3",
   "language": "python",
   "name": "python3"
  },
  "language_info": {
   "codemirror_mode": {
    "name": "ipython",
    "version": 3
   },
   "file_extension": ".py",
   "mimetype": "text/x-python",
   "name": "python",
   "nbconvert_exporter": "python",
   "pygments_lexer": "ipython3",
   "version": "3.5.4"
  }
 },
 "nbformat": 4,
 "nbformat_minor": 2
}
